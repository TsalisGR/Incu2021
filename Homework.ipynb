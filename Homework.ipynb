{
  "nbformat": 4,
  "nbformat_minor": 0,
  "metadata": {
    "colab": {
      "name": "Homework.ipynb",
      "provenance": []
    },
    "kernelspec": {
      "name": "python3",
      "display_name": "Python 3"
    }
  },
  "cells": [
    {
      "cell_type": "markdown",
      "metadata": {
        "id": "gkVUS7ncMKhv"
      },
      "source": [
        "<h1><center><b>Cisco Incubator 2021: DevNet Track</b></center></h1>"
      ]
    },
    {
      "cell_type": "markdown",
      "metadata": {
        "id": "lnymPTAyNwmV"
      },
      "source": [
        "<h2><b>HOMEWORK:</b></h2>"
      ]
    },
    {
      "cell_type": "markdown",
      "metadata": {
        "id": "7bRSZrriNy8E"
      },
      "source": [
        "1. Fixing an ugly code:"
      ]
    },
    {
      "cell_type": "code",
      "metadata": {
        "colab": {
          "base_uri": "https://localhost:8080/"
        },
        "id": "-6rdEDzs0DH-",
        "outputId": "7123feab-889a-49f9-8de9-bea1b7ab33a9"
      },
      "source": [
        "results=[]\r\n",
        "for i in range(1,10,2):\r\n",
        "\tprint(i)\r\n",
        "\tresults.append(i)\r\n",
        "print(sum(results))"
      ],
      "execution_count": 1,
      "outputs": [
        {
          "output_type": "stream",
          "text": [
            "1\n",
            "3\n",
            "5\n",
            "7\n",
            "9\n",
            "25\n"
          ],
          "name": "stdout"
        }
      ]
    },
    {
      "cell_type": "markdown",
      "metadata": {
        "id": "2XRMr58JN6y6"
      },
      "source": [
        "2. Fixing functions that don't work as expected:"
      ]
    },
    {
      "cell_type": "code",
      "metadata": {
        "colab": {
          "base_uri": "https://localhost:8080/"
        },
        "id": "mTpVY4dtOAMk",
        "outputId": "4f708a79-82d5-446b-e4b0-91a66a6ebab4"
      },
      "source": [
        "def test_function(a,b):\r\n",
        "    result = a*b\r\n",
        "    return('Result: {0}'.format(result))\r\n",
        "\r\n",
        "result1 = test_function(2,4)\r\n",
        "print(result1)\r\n",
        "\r\n",
        "#######################################\r\n",
        "\r\n",
        "def test_function2(a,b):\r\n",
        "    result = a*b\r\n",
        "    return('Result: {0}'.format(result))\r\n",
        "\r\n",
        "result2 = test_function2(3,5)\r\n",
        "print(result2)"
      ],
      "execution_count": 2,
      "outputs": [
        {
          "output_type": "stream",
          "text": [
            "Result: 8\n",
            "Result: 15\n"
          ],
          "name": "stdout"
        }
      ]
    },
    {
      "cell_type": "markdown",
      "metadata": {
        "id": "uJzGNxMANVWD"
      },
      "source": [
        "3. Write a class definition of a Pizza, create 3 pizzas:\r\n",
        "- 50cm, Quattro Formaggi with olive oil\r\n",
        "- 32cm, Prosciutto with garlic sauce\r\n",
        "- 40cm, Margheritta with tomato sauce"
      ]
    },
    {
      "cell_type": "code",
      "metadata": {
        "colab": {
          "base_uri": "https://localhost:8080/"
        },
        "id": "W65iUj_u1xob",
        "outputId": "47dcd484-2822-4822-8f1d-b376ccab122a"
      },
      "source": [
        "class pizza():\r\n",
        "  def __init__(self, name, size, ingredient):\r\n",
        "    self = self\r\n",
        "    self.name = name\r\n",
        "    self.size = size\r\n",
        "    self.ingredient = ingredient\r\n",
        "    return\r\n",
        "\r\n",
        "pizza1 = pizza('Quattro Formaggi','50cm','olive oil')\r\n",
        "pizza2 = pizza('Prosciutto','32 cm','garlic sauce')\r\n",
        "pizza3 = pizza('Margheritta','40cm','tomato sauce')\r\n",
        "\r\n",
        "print(pizza1.name)\r\n",
        "print(pizza1.size)\r\n",
        "print(pizza1.ingredient)\r\n",
        "\r\n",
        "print(pizza2.name)\r\n",
        "print(pizza2.size)\r\n",
        "print(pizza2.ingredient)\r\n",
        "\r\n",
        "print(pizza3.name)\r\n",
        "print(pizza3.size)\r\n",
        "print(pizza3.ingredient)"
      ],
      "execution_count": 3,
      "outputs": [
        {
          "output_type": "stream",
          "text": [
            "Quattro Formaggi\n",
            "50cm\n",
            "olive oil\n",
            "Prosciutto\n",
            "32 cm\n",
            "garlic sauce\n",
            "Margheritta\n",
            "40cm\n",
            "tomato sauce\n"
          ],
          "name": "stdout"
        }
      ]
    },
    {
      "cell_type": "markdown",
      "metadata": {
        "id": "ZqXX2y6vMlNi"
      },
      "source": [
        "4. Unit Testing:\r\n",
        " Write function that once inputted a birth year - will validate whether the person is above 80 years old and by that - classified to get a COVID vaccine! Raise AssertionError if not."
      ]
    },
    {
      "cell_type": "code",
      "metadata": {
        "colab": {
          "base_uri": "https://localhost:8080/"
        },
        "id": "KsHhFcJhp2Xq",
        "outputId": "1efe76f8-69be-4a10-fc8e-8ea1b7c7ccfb"
      },
      "source": [
        "current_year = 2021\r\n",
        "year_of_birth = int(input('Enter Year Of Birth: '))\r\n",
        "age = current_year - year_of_birth\r\n",
        "mytext = 'You are %s years old.'\r\n",
        "print(mytext % age)\r\n",
        "if age < 80:\r\n",
        "    print('You cannot yet get a COVID vaccine!')\r\n",
        "else:\r\n",
        "    print('You are classified to get a COVID vaccine!')"
      ],
      "execution_count": 4,
      "outputs": [
        {
          "output_type": "stream",
          "text": [
            "Enter Year Of Birth: 1991\n",
            "You are 30 years old.\n",
            "You cannot yet get a COVID vaccine!\n"
          ],
          "name": "stdout"
        }
      ]
    },
    {
      "cell_type": "code",
      "metadata": {
        "colab": {
          "base_uri": "https://localhost:8080/"
        },
        "id": "tLYP6um5TzFx",
        "outputId": "6e181a43-ae4c-42da-f206-4f89b85601b0"
      },
      "source": [
        "import unittest\r\n",
        "def age(v):\r\n",
        "    age = 2021 - v\r\n",
        "    return age\r\n",
        "\r\n",
        "class tests_add5(unittest.TestCase):\r\n",
        "    def test_add5(self):\r\n",
        "        self.assertEqual(age(21),2000)\r\n",
        "        self.assertEqual(age(32),1989)\r\n",
        "\r\n",
        "if __name__ == '__main__':\r\n",
        "    unittest.main(argv=['first-arg-is-ignored'], exit=False)"
      ],
      "execution_count": 6,
      "outputs": [
        {
          "output_type": "stream",
          "text": [
            ".\n",
            "----------------------------------------------------------------------\n",
            "Ran 1 test in 0.001s\n",
            "\n",
            "OK\n"
          ],
          "name": "stderr"
        }
      ]
    },
    {
      "cell_type": "markdown",
      "metadata": {
        "id": "3pb_B9y-M4gu"
      },
      "source": [
        "5. *Write Integration Test of your choice*: During the integration testing we make sure that all of individual units we have been building fit together properly to make a complete application."
      ]
    },
    {
      "cell_type": "markdown",
      "metadata": {
        "id": "NV60J07vSE99"
      },
      "source": [
        "As a simple example, we can consider three functions a(), b(), and c().These functions are defined as follows:"
      ]
    },
    {
      "cell_type": "code",
      "metadata": {
        "id": "rPGJUoUKM4-N"
      },
      "source": [
        "def a(x):\r\n",
        "    return x + 1\r\n",
        "\r\n",
        "def b(x):\r\n",
        "    return 2 * x\r\n",
        "\r\n",
        "def c(x):\r\n",
        "    return b(a(x))"
      ],
      "execution_count": 7,
      "outputs": []
    },
    {
      "cell_type": "markdown",
      "metadata": {
        "id": "k_pfSNfRSKwG"
      },
      "source": [
        "The a() and b() functions can each be unit tested because they each do one thing. \r\n",
        "\r\n",
        "Testing c() will be a test of whether a() and b() can be integrated together.\r\n",
        "\r\n",
        "Integration tests still follow the pattern of comparing expected results to observed results. A sample test_c() is implemented here:"
      ]
    },
    {
      "cell_type": "code",
      "metadata": {
        "id": "7iNi09DZSHcN"
      },
      "source": [
        "def test_c():\r\n",
        "    exp = 6\r\n",
        "    obs = c(2)\r\n",
        "    assert obs == exp"
      ],
      "execution_count": 8,
      "outputs": []
    }
  ]
}