{
  "nbformat": 4,
  "nbformat_minor": 0,
  "metadata": {
    "colab": {
      "name": "age_covid.ipynb",
      "provenance": []
    },
    "kernelspec": {
      "name": "python3",
      "display_name": "Python 3"
    }
  },
  "cells": [
    {
      "cell_type": "code",
      "metadata": {
        "colab": {
          "base_uri": "https://localhost:8080/"
        },
        "id": "cHsTnAaNBbBe",
        "outputId": "11885b7b-e2f3-4500-a200-ca6fd55203a8"
      },
      "source": [
        "current_year = 2021\r\n",
        "year_of_birth = int(input('Enter Year Of Birth: '))\r\n",
        "age = current_year - year_of_birth\r\n",
        "mytext = 'You are %s years old.'\r\n",
        "print(mytext % age)\r\n",
        "if age < 80:\r\n",
        "    print('You cannot yet get a COVID vaccine!')\r\n",
        "else:\r\n",
        "    print('You are classified to get a COVID vaccine!')"
      ],
      "execution_count": 1,
      "outputs": [
        {
          "output_type": "stream",
          "text": [
            "Enter Year Of Birth: 1991\n",
            "You are 30 years old.\n",
            "You cannot yet get a COVID vaccine!\n"
          ],
          "name": "stdout"
        }
      ]
    },
    {
      "cell_type": "code",
      "metadata": {
        "id": "96_X5zhvBfbl"
      },
      "source": [
        "import unittest"
      ],
      "execution_count": 2,
      "outputs": []
    },
    {
      "cell_type": "code",
      "metadata": {
        "colab": {
          "base_uri": "https://localhost:8080/"
        },
        "id": "9AkgL2HFBg9y",
        "outputId": "7d90d4cf-b702-40d1-9699-27ffba1ed12a"
      },
      "source": [
        "def age(v):\r\n",
        "    age = 2021 - v\r\n",
        "    return age\r\n",
        "\r\n",
        "class tests_add5(unittest.TestCase):\r\n",
        "    def test_add5(self):\r\n",
        "        self.assertEqual(age(21),2000)\r\n",
        "        self.assertEqual(age(32),1989)\r\n",
        "\r\n",
        "if __name__ == '__main__':\r\n",
        "    unittest.main(argv=['first-arg-is-ignored'], exit=False)"
      ],
      "execution_count": 7,
      "outputs": [
        {
          "output_type": "stream",
          "text": [
            ".\n",
            "----------------------------------------------------------------------\n",
            "Ran 1 test in 0.002s\n",
            "\n",
            "OK\n"
          ],
          "name": "stderr"
        }
      ]
    }
  ]
}