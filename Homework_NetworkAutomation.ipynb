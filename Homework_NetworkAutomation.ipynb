{
  "nbformat": 4,
  "nbformat_minor": 0,
  "metadata": {
    "colab": {
      "name": "Homework_NetworkAutomation.ipynb",
      "provenance": []
    },
    "kernelspec": {
      "name": "python3",
      "display_name": "Python 3"
    }
  },
  "cells": [
    {
      "cell_type": "code",
      "metadata": {
        "colab": {
          "base_uri": "https://localhost:8080/"
        },
        "id": "-6rdEDzs0DH-",
        "outputId": "b69f559e-aac0-48c9-c24c-7169230be195"
      },
      "source": [
        "results=[]\r\n",
        "for i in range(1,10,2):\r\n",
        "\tprint(i)\r\n",
        "\tresults.append(i)\r\n",
        "print(sum(results))"
      ],
      "execution_count": 12,
      "outputs": [
        {
          "output_type": "stream",
          "text": [
            "1\n",
            "3\n",
            "5\n",
            "7\n",
            "9\n",
            "25\n"
          ],
          "name": "stdout"
        }
      ]
    },
    {
      "cell_type": "code",
      "metadata": {
        "colab": {
          "base_uri": "https://localhost:8080/"
        },
        "id": "W65iUj_u1xob",
        "outputId": "766ca2e6-1d10-4606-838e-7ca0502afa91"
      },
      "source": [
        "class pizza():\r\n",
        "  def __init__(self, name, size, ingredient):\r\n",
        "    self = self\r\n",
        "    self.name = name\r\n",
        "    self.size = size\r\n",
        "    self.ingredient = ingredient\r\n",
        "    return\r\n",
        "\r\n",
        "pizza1 = pizza('Quattro Formaggi','50cm','olive oil')\r\n",
        "pizza2 = pizza('Prosciutto','32 cm','garlic sauce')\r\n",
        "pizza3 = pizza('Margheritta','40cm','tomato sauce')\r\n",
        "print(pizza1.name)\r\n",
        "print(pizza1.size)\r\n",
        "print(pizza1.ingredient)\r\n",
        "print(pizza2.name)\r\n",
        "print(pizza2.size)\r\n",
        "print(pizza2.ingredient)\r\n",
        "\r\n",
        "print(pizza3.name)\r\n",
        "print(pizza3.size)\r\n",
        "print(pizza3.ingredient)"
      ],
      "execution_count": 13,
      "outputs": [
        {
          "output_type": "stream",
          "text": [
            "Quattro Formaggi\n",
            "50cm\n",
            "olive oil\n",
            "Prosciutto\n",
            "32 cm\n",
            "garlic sauce\n",
            "Margheritta\n",
            "40cm\n",
            "tomato sauce\n"
          ],
          "name": "stdout"
        }
      ]
    }
  ]
}